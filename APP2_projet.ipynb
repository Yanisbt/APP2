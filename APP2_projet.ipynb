{
 "cells": [
  {
   "cell_type": "markdown",
   "id": "a8df3842-4037-4ad4-892b-d36bd4fbabf3",
   "metadata": {},
   "source": [
    "# Projet APP2 : Vérification d'un programme HTML"
   ]
  },
  {
   "cell_type": "markdown",
   "id": "58f6cb0b-e23c-4f02-9b58-8b1683622c77",
   "metadata": {},
   "source": [
    "### On importe une librairie qui repère les signes récurrents"
   ]
  },
  {
   "cell_type": "code",
   "execution_count": 3,
   "id": "c2dfcab0-0005-4f5d-827c-2833bfe74b78",
   "metadata": {},
   "outputs": [],
   "source": [
    "import re "
   ]
  },
  {
   "cell_type": "markdown",
   "id": "640e51c3-0156-40d7-a5aa-1d742d1983e8",
   "metadata": {},
   "source": [
    "### Fonction qui lit le code HTML depuis un fichier texte"
   ]
  },
  {
   "cell_type": "code",
   "execution_count": 5,
   "id": "b49aa6f6-740d-4fbd-9069-e94ecd036408",
   "metadata": {},
   "outputs": [],
   "source": [
    "def lire(fichier):\n",
    "    with open(fichier, \"r\") as f:\n",
    "        return f.read()"
   ]
  },
  {
   "cell_type": "markdown",
   "id": "5877d07c-4ada-4921-aa9c-db1fb18dd3f0",
   "metadata": {},
   "source": [
    "### Fonction qui extrait les balises"
   ]
  },
  {
   "cell_type": "code",
   "execution_count": 7,
   "id": "174e4f27-3968-4609-8b76-07f15eeb98c9",
   "metadata": {},
   "outputs": [],
   "source": [
    "def extraire_balises(contenu):\n",
    "    return re.findall(r'<[^>]+>', contenu) #Extrait les balises sans ce qu'elles contiennent (contenu = lire(ficher)).\n"
   ]
  },
  {
   "cell_type": "markdown",
   "id": "6eb6c76f-ee5f-4744-a7c9-11467f88887d",
   "metadata": {},
   "source": [
    "### Fonction qui vérifie le fonctionnement du code\n"
   ]
  },
  {
   "cell_type": "raw",
   "id": "b783caef-cf10-4b08-88c8-558de62f7c2e",
   "metadata": {},
   "source": [
    "Le code qui suit à pour but de vérifier si les balises HTML d’un fichier sont correctement ouvertes et fermées.\n",
    "Pour cela, il commence par lire le contenu du fichier, puis extrait toutes les balises présentes.\n",
    "Il utilise une structure de pile pour suivre l’ordre d’ouverture des balises. \n",
    "Lorsqu’il rencontre une balise ouvrante (comme \"<div>\"), il l’ajoute à la pile. \n",
    "Lorsqu’il rencontre une balise fermante (comme \"</div>\"), il vérifie si elle correspond à la dernière balise ouverte, si ce n’est pas le cas, une erreur est enregistrée. \n",
    "Les balises auto-fermées (comme \"<img />\") sont vérifiées si elles sont fermées par \"/>\".\n",
    "Les déclarations spéciales (comme <!DOCTYPE>) sont ignorées pour éviter des erreurs de compréhension du programme. \n",
    "À la fin, si des balises sont restées dans la pile, cela signifie qu’elles n’ont pas été fermées, et une erreur est également signalée pour chacune d’elles.S\n",
    "Le programme renvoie une liste des erreurs détectées, ou un message indiquant qu’il n’y a aucune erreur si tout est correctement structuré."
   ]
  },
  {
   "cell_type": "code",
   "execution_count": 31,
   "id": "a6dae03a-d206-4dad-a626-d63e4ff606fc",
   "metadata": {
    "scrolled": true
   },
   "outputs": [],
   "source": [
    "def verifier_balises(fichier):\n",
    "    contenu = lire(fichier)\n",
    "    balises = extraire_balises(contenu)\n",
    "    \n",
    "    pile = []  # Pour vérifier les balises non fermées\n",
    "    erreurs = [] #Pour faire une liste des erreurs à renvoyer\n",
    "    \n",
    "    for balise in balises:\n",
    "        if balise.startswith(\"<!\"):  # Ignorer DOCTYPE et autres déclarations\n",
    "            continue\n",
    "        \n",
    "        if re.match(r'</', balise):  # Si balise de fermeture\n",
    "            tag = re.sub(r'</|>', '', balise) #Extrait seulement le nom de la balise (</p> -> p)\n",
    "            if pile and pile[-1] == tag: #Si la pile a des éléments que le dernier est égal à \"tag\"\n",
    "                pile.pop()\n",
    "            else:\n",
    "                erreurs.append(f\"Balise fermante {balise} sans ouverture correspondante\") #On ajoute une erreur à la liste\n",
    "        elif not balise.endswith('/>'):  # Balise ouvrante (pas auto-fermée)\n",
    "            tag = re.sub(r'<|>', '', balise).split()[0] #Sépare la chaine en liste, et prend le premier élément (la balise dans ce cas)\n",
    "            pile.append(tag)\n",
    "\n",
    "    while pile: #tant que la pile n'est pas vide\n",
    "        erreurs.append(f\"Balise ouvrante <{pile.pop()}> non fermée\")\n",
    "    \n",
    "    return erreurs if erreurs else \"Aucune erreur détectée\" #renvoie la liste si elle existe, sinon, ne renvoie rien.\n",
    "    \n"
   ]
  },
  {
   "cell_type": "markdown",
   "id": "b660e9b2-3ae7-4092-a3e8-c3d9fe821d9e",
   "metadata": {},
   "source": [
    "### On teste le code"
   ]
  },
  {
   "cell_type": "code",
   "execution_count": 33,
   "id": "4f603c3e-49d5-40ef-b12a-8ff11e444478",
   "metadata": {},
   "outputs": [
    {
     "name": "stdout",
     "output_type": "stream",
     "text": [
      "Aucune erreur détectée\n"
     ]
    }
   ],
   "source": [
    "# Exemple d'utilisation\n",
    "fichier = \"fichier_html.txt\"\n",
    "print(verifier_balises(fichier))"
   ]
  }
 ],
 "metadata": {
  "kernelspec": {
   "display_name": "Python 3 (ipykernel)",
   "language": "python",
   "name": "python3"
  },
  "language_info": {
   "codemirror_mode": {
    "name": "ipython",
    "version": 3
   },
   "file_extension": ".py",
   "mimetype": "text/x-python",
   "name": "python",
   "nbconvert_exporter": "python",
   "pygments_lexer": "ipython3",
   "version": "3.12.4"
  }
 },
 "nbformat": 4,
 "nbformat_minor": 5
}
